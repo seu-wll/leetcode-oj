{
 "cells": [
  {
   "cell_type": "markdown",
   "metadata": {},
   "source": [
    "## Collections 模块学习\n",
    "包括：\n",
    "1. deque\n",
    "2. \n",
    "\n",
    "\n",
    "[参考](https://www.liaoxuefeng.com/wiki/1016959663602400/1017681679479008)"
   ]
  },
  {
   "cell_type": "code",
   "execution_count": 1,
   "metadata": {},
   "outputs": [
    {
     "name": "stdout",
     "output_type": "stream",
     "text": [
      "deque(['y', 'a', 'b', 'c', 'x'])\n",
      "x y\n"
     ]
    }
   ],
   "source": [
    "'''\n",
    "deque:队列\n",
    "'''\n",
    "from collections import deque\n",
    "q = deque(['a', 'b', 'c'])\n",
    "q.append('x')\n",
    "q.appendleft('y')\n",
    "print(q)\n",
    "m=q.pop()\n",
    "n=q.popleft()\n",
    "print(m,n)"
   ]
  },
  {
   "cell_type": "code",
   "execution_count": 2,
   "metadata": {},
   "outputs": [
    {
     "name": "stdout",
     "output_type": "stream",
     "text": [
      "abc\n",
      "0\n"
     ]
    }
   ],
   "source": [
    "'''\n",
    "defaultdict:如果希望key不存在时，返回一个默认值\n",
    "'''\n",
    "from collections import defaultdict\n",
    "dd = defaultdict(lambda: 0)\n",
    "dd['key1'] = 'abc'\n",
    "print(dd['key1'])\n",
    "print(dd['key2'])\n"
   ]
  },
  {
   "cell_type": "code",
   "execution_count": 3,
   "metadata": {},
   "outputs": [
    {
     "name": "stdout",
     "output_type": "stream",
     "text": [
      "{'a': 1, 'b': 2, 'c': 3}\n",
      "OrderedDict([('a', 1), ('b', 2), ('c', 3)])\n"
     ]
    }
   ],
   "source": [
    "'''\n",
    "OrderedDict:如果要保持Key的顺序\n",
    "排序规则：照插入的顺序排列\n",
    "\n",
    "'''\n",
    "from collections import OrderedDict\n",
    "d = dict([('a', 1), ('b', 2), ('c', 3)])\n",
    "print(d)\n",
    "od = OrderedDict([('a', 1), ('b', 2), ('c', 3)])\n",
    "print(od)"
   ]
  }
 ],
 "metadata": {
  "interpreter": {
   "hash": "b3ba2566441a7c06988d0923437866b63cedc61552a5af99d1f4fb67d367b25f"
  },
  "kernelspec": {
   "display_name": "Python 3.9.7 ('base')",
   "language": "python",
   "name": "python3"
  },
  "language_info": {
   "codemirror_mode": {
    "name": "ipython",
    "version": 3
   },
   "file_extension": ".py",
   "mimetype": "text/x-python",
   "name": "python",
   "nbconvert_exporter": "python",
   "pygments_lexer": "ipython3",
   "version": "3.9.7"
  },
  "orig_nbformat": 4
 },
 "nbformat": 4,
 "nbformat_minor": 2
}
