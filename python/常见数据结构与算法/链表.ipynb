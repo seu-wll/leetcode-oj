{
 "cells": [
  {
   "cell_type": "markdown",
   "metadata": {},
   "source": [
    "[参考](https://blog.csdn.net/Tonywu2018/article/details/88853533)"
   ]
  },
  {
   "cell_type": "code",
   "execution_count": null,
   "metadata": {},
   "outputs": [],
   "source": [
    "class Node(object):\n",
    "\t'''定义单链表节点类'''\n",
    "\tdef __init__(self,data,next = None):\n",
    "\t\t'''data为数据项，next为下一节点的链接，初始化节点默认链接为None'''\n",
    "\t\tself.data = data\n",
    "\t\tself.next = next"
   ]
  },
  {
   "cell_type": "code",
   "execution_count": null,
   "metadata": {},
   "outputs": [],
   "source": [
    "# 定义3个节点对象分别为node1、node2和node3\n",
    "node1 = None\n",
    "node2 = Node(1,None)\n",
    "node3 = Node('hello',node2)\n",
    "print(node1,node2.data,node2,node3.next)"
   ]
  }
 ],
 "metadata": {
  "language_info": {
   "name": "python"
  },
  "orig_nbformat": 4
 },
 "nbformat": 4,
 "nbformat_minor": 2
}
