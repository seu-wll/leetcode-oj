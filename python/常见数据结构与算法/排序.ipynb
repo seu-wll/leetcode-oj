{
 "cells": [
  {
   "cell_type": "code",
   "execution_count": 2,
   "metadata": {},
   "outputs": [
    {
     "name": "stdout",
     "output_type": "stream",
     "text": [
      "[1, 1, 2, 3, 4, 5]\n",
      "[1, 1, 2, 3, 4, 5]\n"
     ]
    }
   ],
   "source": [
    "'''\n",
    "基本的排序方法\n",
    "sorted会重新构造一个对象\n",
    "'''\n",
    "a = [1,2,1,4,3,5]\n",
    "a.sort()\n",
    "print(a)\n",
    "b=[1,2,1,4,3,5]\n",
    "b=sorted(b)\n",
    "print(b)\n"
   ]
  },
  {
   "cell_type": "code",
   "execution_count": 7,
   "metadata": {},
   "outputs": [
    {
     "name": "stdout",
     "output_type": "stream",
     "text": [
      "d55bg5h2fg\n",
      "d55bg5h2fg\n",
      "[('a', 2), ('b', 3), ('c', 1), ('d', 4)]\n",
      "[('c', 1), ('a', 2), ('b', 3), ('d', 4)]\n"
     ]
    }
   ],
   "source": [
    "'''\n",
    "需要设计排序逻辑\n",
    "'''\n",
    "\n",
    "from functools import cmp_to_key\n",
    "def cmp_new(x,y):\n",
    "    if (x+y)>(y+x):\n",
    "        return 1\n",
    "    elif (x+y)<(y+x):\n",
    "        return -1\n",
    "    else :\n",
    "        return 0\n",
    "    \n",
    "\n",
    "s=['bg','2fg','d55','5h']\n",
    "s.sort(key=cmp_to_key(cmp_new),reverse=True)\n",
    "print(''.join(s).lstrip(\"0\"))\n",
    "#或者如下\n",
    "s_new = sorted(s,key=cmp_to_key(cmp_new),reverse=True)\n",
    "print(''.join(s_new).lstrip(\"0\"))\n"
   ]
  },
  {
   "cell_type": "code",
   "execution_count": 8,
   "metadata": {},
   "outputs": [
    {
     "name": "stdout",
     "output_type": "stream",
     "text": [
      "[('a', 2), ('b', 3), ('c', 1), ('d', 4)]\n",
      "[('c', 1), ('a', 2), ('b', 3), ('d', 4)]\n"
     ]
    }
   ],
   "source": [
    "'''\n",
    "确定排序元素的层级\n",
    "'''\n",
    "a = [('b',3), ('a',2), ('d',4), ('c',1)]\n",
    "print(sorted(a, key=lambda x:x[0] ))\n",
    "print(sorted(a, key=lambda x:x[1]) )"
   ]
  },
  {
   "cell_type": "code",
   "execution_count": 1,
   "metadata": {},
   "outputs": [
    {
     "name": "stdout",
     "output_type": "stream",
     "text": [
      "[(12, 24), (12, 12), (32, 64), (32, 15), (32, 11), (34, 13)]\n"
     ]
    }
   ],
   "source": [
    "L = [(12, 12), (34, 13), (32, 15), (12, 24), (32, 64), (32, 11)]\n",
    "L.sort(key=lambda x: (x[0], -x[1]))\n",
    "print(L)"
   ]
  }
 ],
 "metadata": {
  "interpreter": {
   "hash": "b3ba2566441a7c06988d0923437866b63cedc61552a5af99d1f4fb67d367b25f"
  },
  "kernelspec": {
   "display_name": "Python 3.9.7 ('base')",
   "language": "python",
   "name": "python3"
  },
  "language_info": {
   "codemirror_mode": {
    "name": "ipython",
    "version": 3
   },
   "file_extension": ".py",
   "mimetype": "text/x-python",
   "name": "python",
   "nbconvert_exporter": "python",
   "pygments_lexer": "ipython3",
   "version": "3.9.7"
  },
  "orig_nbformat": 4
 },
 "nbformat": 4,
 "nbformat_minor": 2
}
