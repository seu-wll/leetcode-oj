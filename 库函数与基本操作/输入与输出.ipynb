{
 "cells": [
  {
   "cell_type": "markdown",
   "metadata": {},
   "source": [
    "### 1. 输入两个数，输入数据包括多组"
   ]
  },
  {
   "cell_type": "code",
   "execution_count": null,
   "metadata": {},
   "outputs": [],
   "source": [
    "'''\n",
    "input:\n",
    "1 5\n",
    "10 20\n",
    "\n",
    "output:\n",
    "6\n",
    "30\n",
    "'''\n",
    "while True:\n",
    "    try:\n",
    "        a = list(map(int,input().split()))\n",
    "        print(a[0]+a[1])\n",
    "    except:\n",
    "        break\n"
   ]
  },
  {
   "cell_type": "markdown",
   "metadata": {},
   "source": [
    "### 2.第一行为一个整数，告诉你有几组数据，剩下的行是每组的数据"
   ]
  },
  {
   "cell_type": "code",
   "execution_count": null,
   "metadata": {},
   "outputs": [],
   "source": [
    "'''\n",
    "input:\n",
    "2\n",
    "1 5\n",
    "10 20\n",
    "\n",
    "output:\n",
    "6\n",
    "30\n",
    "'''\n",
    "t = int(input())\n",
    "for i in range(t):\n",
    "    a, b = list(map(int, input().split()))\n",
    "    print(a+b)\n"
   ]
  },
  {
   "cell_type": "markdown",
   "metadata": {},
   "source": [
    "### 3.输入数据有多组, 如果输入为0 0则结束输入"
   ]
  },
  {
   "cell_type": "code",
   "execution_count": null,
   "metadata": {},
   "outputs": [],
   "source": [
    "'''\n",
    "input:\n",
    "1 5\n",
    "10 20\n",
    "0 0\n",
    "\n",
    "output:\n",
    "6\n",
    "30\n",
    "'''\n",
    "while True:\n",
    "    a, b = map(int, input().split())\n",
    "    if a == 0 and b == 0:\n",
    "        break\n",
    "    print(a + b)"
   ]
  },
  {
   "cell_type": "markdown",
   "metadata": {},
   "source": [
    "### 4. 多组数据，每一行第一个数字代表这一组共有几个数据。当行中第一个数字为0时结束。"
   ]
  },
  {
   "cell_type": "code",
   "execution_count": null,
   "metadata": {},
   "outputs": [],
   "source": [
    "'''\n",
    "input:\n",
    "4 1 2 3 4\n",
    "5 1 2 3 4 5\n",
    "0\n",
    "\n",
    "output:\n",
    "10\n",
    "15\n",
    "'''\n",
    "while True:\n",
    "    data=list(map(int,input().strip().split()))\n",
    "    n,array=data[0],data[1:]\n",
    "    if n==0:\n",
    "        break\n",
    "    print(sum(array))"
   ]
  },
  {
   "cell_type": "markdown",
   "metadata": {},
   "source": [
    "###  5.第一行的整数表示一共几组数据，剩下的行每一行第一个数字代表这一组共有几个数据"
   ]
  },
  {
   "cell_type": "code",
   "execution_count": null,
   "metadata": {},
   "outputs": [],
   "source": [
    "'''\n",
    "input:\n",
    "2\n",
    "4 1 2 3 4\n",
    "5 1 2 3 4 5\n",
    "\n",
    "output:\n",
    "10\n",
    "15\n",
    "'''\n",
    "tcase=int(input().strip())\n",
    "for case in range(tcase):\n",
    "    data=list(map(int,input().strip().split()))\n",
    "    n,array=data[0],data[1:]\n",
    "    print(sum(array))\n"
   ]
  },
  {
   "cell_type": "markdown",
   "metadata": {},
   "source": [
    "### 6.多组数据，但是不知道多少组。每一行第一个数字代表这一组共有几个数据。"
   ]
  },
  {
   "cell_type": "code",
   "execution_count": null,
   "metadata": {},
   "outputs": [],
   "source": [
    "'''\n",
    "input:\n",
    "4 1 2 3 4\n",
    "5 1 2 3 4 5\n",
    "\n",
    "output:\n",
    "10\n",
    "15\n",
    "'''\n",
    "while True:\n",
    "    try:\n",
    "        data=list(map(int,input().strip().split()))\n",
    "        n,array=data[0],data[1:]\n",
    "        print(sum(array))\n",
    "    except:\n",
    "        break"
   ]
  },
  {
   "cell_type": "markdown",
   "metadata": {},
   "source": [
    " ### 7.多组数据，但是不知道有多少组，每一组的数据个数也不一样。"
   ]
  },
  {
   "cell_type": "code",
   "execution_count": null,
   "metadata": {},
   "outputs": [],
   "source": [
    "'''\n",
    "input:\n",
    "1 2 3\n",
    "4 5\n",
    "0 0 0 0 0\n",
    "\n",
    "output:\n",
    "6\n",
    "9\n",
    "0\n",
    "'''\n",
    "while True:\n",
    "    try:\n",
    "        data=list(map(int,input().strip().split()))\n",
    "        print(sum(data))\n",
    "    except EOFError:\n",
    "        break"
   ]
  },
  {
   "cell_type": "markdown",
   "metadata": {},
   "source": [
    "### 8.输入有两行，第一行n 。第二行是n个空格隔开的字符串，进行排序"
   ]
  },
  {
   "cell_type": "code",
   "execution_count": null,
   "metadata": {},
   "outputs": [],
   "source": [
    "'''\n",
    "input:\n",
    "5\n",
    "c d a bb e\n",
    "\n",
    "output:\n",
    "a bb c d e\n",
    "'''\n",
    "\n",
    "n=int(input())\n",
    "words=[x for x in input().strip().split()]\n",
    "words.sort() #list.sort( key=None, reverse=False)\n",
    "#reverse -- 排序规则，reverse = True 降序， reverse = False 升序（默认）。\n",
    "for word in words:\n",
    "    print(word,end=' ')\n",
    "print()"
   ]
  },
  {
   "cell_type": "markdown",
   "metadata": {},
   "source": [
    "### 9 .多个组，每个测试组是一行，字符串通过空格隔开。"
   ]
  },
  {
   "cell_type": "code",
   "execution_count": null,
   "metadata": {},
   "outputs": [],
   "source": [
    "'''\n",
    "input:\n",
    "a c bb\n",
    "f dddd\n",
    "nowcoder\n",
    "\n",
    "output:\n",
    "a bb c\n",
    "dddd f\n",
    "nowcoder\n",
    "'''\n",
    "while True:\n",
    "    try:\n",
    "        words=[x for x in input().strip().split()]\n",
    "        words.sort()\n",
    "        for word in words:\n",
    "            print(word,end=' ')\n",
    "        print()\n",
    "    except EOFError:\n",
    "        break"
   ]
  },
  {
   "cell_type": "markdown",
   "metadata": {},
   "source": [
    "### 10.多个组，每个测试组是一行，字符串通过空格隔开。输出：每个字符串间用','隔开，无结尾空格。"
   ]
  },
  {
   "cell_type": "code",
   "execution_count": null,
   "metadata": {},
   "outputs": [],
   "source": [
    "'''\n",
    "input:\n",
    "a c bb\n",
    "f dddd\n",
    "nowcoder\n",
    "\n",
    "output:\n",
    "a bb c\n",
    "dddd f\n",
    "nowcoder\n",
    "'''\n",
    "while True:\n",
    "    try:\n",
    "        words=[x for x in input().strip().split(',')]\n",
    "        words.sort()\n",
    "        for word in words[:-1]:\n",
    "            print(word,end=',')\n",
    "        print(words[-1])\n",
    "    except EOFError:\n",
    "        break\n"
   ]
  }
 ],
 "metadata": {
  "interpreter": {
   "hash": "b3ba2566441a7c06988d0923437866b63cedc61552a5af99d1f4fb67d367b25f"
  },
  "kernelspec": {
   "display_name": "Python 3.9.7 ('base')",
   "language": "python",
   "name": "python3"
  },
  "language_info": {
   "name": "python",
   "version": "3.9.7"
  },
  "orig_nbformat": 4
 },
 "nbformat": 4,
 "nbformat_minor": 2
}
