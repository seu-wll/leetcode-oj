{
 "cells": [
  {
   "cell_type": "markdown",
   "metadata": {},
   "source": [
    "### Heapq库\n",
    "大根堆与小根堆的构造\n",
    "\n",
    "[参考](https://blog.csdn.net/weixin_43790276/article/details/107741332)"
   ]
  },
  {
   "cell_type": "code",
   "execution_count": 2,
   "metadata": {},
   "outputs": [],
   "source": [
    "from heapq import *"
   ]
  },
  {
   "cell_type": "code",
   "execution_count": 3,
   "metadata": {},
   "outputs": [],
   "source": [
    "l=[1,2,3]\n",
    "n=4"
   ]
  },
  {
   "cell_type": "code",
   "execution_count": 4,
   "metadata": {},
   "outputs": [
    {
     "name": "stdout",
     "output_type": "stream",
     "text": [
      "[1, 2, 3, 4]\n",
      "1\n",
      "[2, 4, 3]\n",
      "2\n",
      "[3, 4, 4]\n"
     ]
    }
   ],
   "source": [
    "'''\n",
    "基础的操作\n",
    "1. push()\n",
    "2. pop()\n",
    "'''\n",
    "heappush(l,n)\n",
    "print(l)\n",
    "\n",
    "a=heappop(l)\n",
    "print(a)\n",
    "print(l)\n"
   ]
  },
  {
   "cell_type": "code",
   "execution_count": 6,
   "metadata": {},
   "outputs": [
    {
     "data": {
      "text/plain": [
       "[2, 5, 3, 7]"
      ]
     },
     "execution_count": 6,
     "metadata": {},
     "output_type": "execute_result"
    }
   ],
   "source": [
    "'''\n",
    "堆化\n",
    "'''\n",
    "m=[5,7,3,2]\n",
    "heapify(m)\n",
    "m"
   ]
  },
  {
   "cell_type": "code",
   "execution_count": 12,
   "metadata": {},
   "outputs": [
    {
     "name": "stdout",
     "output_type": "stream",
     "text": [
      "before: [7, 8, 15, 10]\n",
      "after:  [8, 10, 15, 25]\n",
      "7\n",
      "before: [7, 8, 15, 10]\n",
      "after:  [5, 8, 15, 10]\n",
      "7\n"
     ]
    }
   ],
   "source": [
    "'''\n",
    "数据替换：比用两步走速度略快一些\n",
    "heappushpop(heap, num)，先将num添加到堆中，然后将堆顶的数据出堆。\n",
    "heapreplace(heap, num)，先将堆顶的数据出堆，然后将num添加到堆中。\n",
    "'''\n",
    "array_c = [10, 7, 15, 8]\n",
    "heapify(array_c)\n",
    "print(\"before:\", array_c)\n",
    "# 先push再pop\n",
    "item = heappushpop(array_c, 25)\n",
    "print(\"after: \", array_c)\n",
    "print(item)\n",
    " \n",
    "array_d = [10, 7, 15, 8]\n",
    "heapify(array_d)\n",
    "print(\"before:\", array_d)\n",
    "# 先pop再push\n",
    "item = heapreplace(array_d, 5)\n",
    "print(\"after: \", array_d)\n",
    "print(item)\n"
   ]
  },
  {
   "cell_type": "code",
   "execution_count": 8,
   "metadata": {},
   "outputs": [
    {
     "name": "stdout",
     "output_type": "stream",
     "text": [
      "[50, 45]\n",
      "[5, 7, 10]\n"
     ]
    }
   ],
   "source": [
    "'''\n",
    "获得最大值与最小值，通用算法,list也可以用\n",
    "'''\n",
    "array = [10, 17, 50, 7, 30, 24, 27, 45, 15, 5, 36, 21]\n",
    "heapify(array)\n",
    "print(nlargest(2, array))\n",
    "print(nsmallest(3, array))"
   ]
  },
  {
   "cell_type": "code",
   "execution_count": 10,
   "metadata": {},
   "outputs": [
    {
     "name": "stdout",
     "output_type": "stream",
     "text": [
      "merge result: [3, 7, 8, 8, 10, 13, 15, 17, 20]\n"
     ]
    }
   ],
   "source": [
    "'''\n",
    "使用heapq合并两个有序列表,不用有序也可以合并\n",
    "'''\n",
    "array_a = [10, 7, 15, 8]\n",
    "array_b = [17, 3, 8, 20, 13]\n",
    "array_merge = merge(sorted(array_a), sorted(array_b))\n",
    "print(\"merge result:\", list(array_merge))"
   ]
  }
 ],
 "metadata": {
  "interpreter": {
   "hash": "b3ba2566441a7c06988d0923437866b63cedc61552a5af99d1f4fb67d367b25f"
  },
  "kernelspec": {
   "display_name": "Python 3.9.7 ('base')",
   "language": "python",
   "name": "python3"
  },
  "language_info": {
   "codemirror_mode": {
    "name": "ipython",
    "version": 3
   },
   "file_extension": ".py",
   "mimetype": "text/x-python",
   "name": "python",
   "nbconvert_exporter": "python",
   "pygments_lexer": "ipython3",
   "version": "3.9.7"
  },
  "orig_nbformat": 4
 },
 "nbformat": 4,
 "nbformat_minor": 2
}
